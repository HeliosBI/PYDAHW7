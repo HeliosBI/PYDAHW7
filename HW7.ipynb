{
 "cells": [
  {
   "cell_type": "markdown",
   "metadata": {},
   "source": [
    "***Задание 1***\n",
    "\n",
    "Напишите функцию date_range, которая возвращает список дней между датами start_date и end_date. Даты должны вводиться в формате YYYY-MM-DD.\n",
    "\n",
    "\n",
    "***Задание 2***\n",
    "\n",
    "Дополните функцию из первого задания проверкой на корректность дат. В случае неверного формата или если start_date > end_date должен возвращаться пустой список.\n",
    "\n",
    "\n",
    "***Задание 3***\n",
    "\n",
    "Дан поток дат в формате YYYY-MM-DD, в которых встречаются некорректные значения:\n",
    "stream = [‘2018-04-02’, ‘2018-02-29’, ‘2018-19-02’]\n",
    "\n",
    "Напишите функцию, которая проверяет эти даты на корректность. Т. е. для каждой даты возвращает True (дата корректна) или False (некорректная дата).\n",
    "\n",
    "\n",
    "***Задание 4 (бонусное)***\n",
    "\n",
    "Ваш коллега прислал код функции:\n",
    "\n",
    "DEFAULT_USER_COUNT = 3\n",
    "\n",
    "def delete_and_return_last_user(region, default_list=[‘A100’, ‘A101’, ‘A102’]):\n",
    "\"\"“\n",
    "Удаляет из списка default_list последнего пользователя\n",
    "и возвращает ID нового последнего пользователя.\n",
    "”\"\"\n",
    "element_to_delete = default_list[-1]\n",
    "default_list.remove(element_to_delete)\n",
    "\n",
    "\n",
    "return default_list[DEFAULT_USER_COUNT-2]\n",
    "\n",
    "\n",
    "При однократном вызове этой функции все работает корректно:\n",
    "\n",
    "delete_and_return_last_user(1)\n",
    "‘A101’\n",
    "\n",
    "Однако, при повторном вызове получается ошибка IndexError: list index out of range.\n",
    "\n",
    "\n",
    "***Задание:***\n",
    "\n",
    "Что значит ошибка list index out of range?\n",
    "\n",
    "Почему при первом запуске функция работает корректно, а при втором - нет?"
   ]
  },
  {
   "cell_type": "code",
   "execution_count": null,
   "metadata": {},
   "outputs": [],
   "source": [
    "def date_range(start_date, end_date):\n",
    "    from datetime import datetime\n",
    "    from datetime import timedelta\n",
    "    date_list = []\n",
    "    start_date = datetime.strptime(start_date, '%Y.%m.%d')\n",
    "    end_date = datetime.strptime(end_date, '%Y.%m.%d')\n",
    "    date = start_date\n",
    "    while date < end_date:\n",
    "        date += timedelta(days=1)\n",
    "        date_list.append(date.strftime('%Y-%m-%d'))\n",
    "    return date_list\n",
    "   \n",
    "print(date_range('2020.01.01', '2020.01.10'))"
   ]
  },
  {
   "cell_type": "code",
   "execution_count": null,
   "metadata": {
    "scrolled": true
   },
   "outputs": [],
   "source": [
    "def date_range_v2(start_date, end_date):\n",
    "    from datetime import datetime\n",
    "    from datetime import timedelta\n",
    "    try:\n",
    "        start_date = datetime.strptime(start_date, '%Y.%m.%d')\n",
    "        try:\n",
    "            end_date = datetime.strptime(end_date, '%Y.%m.%d')\n",
    "            if start_date < end_date:\n",
    "                date_list = []\n",
    "                date = start_date\n",
    "                while date < end_date:\n",
    "                    date += timedelta(days=1)\n",
    "                    date_list.append(date.strftime('%Y-%m-%d'))\n",
    "                return date_list\n",
    "            else:\n",
    "                print(f'Первая дата \"{start_date}\" больше или равна последней дате \"{end_date}\"')\n",
    "        except:\n",
    "            print('Возникла ошибка, проверьте формат конечной даты')\n",
    "    except:\n",
    "        print('Возникла ошибка, проверьте формат начальной даты')\n",
    "        \n",
    "print(date_range_v2('2020.01.31', '2020.02.05'))"
   ]
  },
  {
   "cell_type": "code",
   "execution_count": null,
   "metadata": {},
   "outputs": [],
   "source": [
    "stream = ['2018-04-02', '2018-02-29', '2018-19-02']\n",
    "\n",
    "def correct_date_check(dates_list):\n",
    "    from datetime import datetime\n",
    "    pos_counter = -1\n",
    "    for i in stream:\n",
    "        try:\n",
    "            date = datetime.strptime(i, '%Y-%m-%d')\n",
    "            pos_counter += 1\n",
    "            print(f'Элемент списка № {pos_counter} True')\n",
    "        except:\n",
    "            pos_counter += 1\n",
    "            print(f'Элемент списка № {pos_counter} False')\n",
    "    return\n",
    "\n",
    "correct_date_check(stream)"
   ]
  },
  {
   "cell_type": "code",
   "execution_count": null,
   "metadata": {},
   "outputs": [],
   "source": [
    "DEFAULT_USER_COUNT = 3\n",
    "\n",
    "def delete_and_return_last_user(region, default_list=['A100', 'A101', 'A102']):\n",
    "    \"\"\"\n",
    "    Удаляет из списка default_list последнего пользователя\n",
    "    и возвращает ID нового последнего пользователя.\n",
    "    \"\"\"\n",
    "    element_to_delete = default_list[-1]\n",
    "    default_list.remove(element_to_delete)\n",
    "    return default_list[DEFAULT_USER_COUNT-2]"
   ]
  },
  {
   "cell_type": "code",
   "execution_count": null,
   "metadata": {},
   "outputs": [],
   "source": [
    "print(delete_and_return_last_user(1))"
   ]
  },
  {
   "cell_type": "markdown",
   "metadata": {},
   "source": [
    "1. Что значит ошибка list index out of range?\\\n",
    "Ошибка означает, что при в объекте типа list отсутствует значение под заданным index. При попытке получить отсутствующее значение алгоритм дает ошибку.\n",
    "2. Почему при первом запуске функция работает корректно, а при втором - нет?\\\n",
    "Первый проход функции перезаписывает переменную default_list=['A100', 'A101', 'A102'] в переменную default_list=['A100', 'A101'].\n",
    "При втором проходе функции переменная default_list уже в памяти объявлена, то есть алгоритм не иинциализирует базовое значение функции, а работа происходит по переменной default_list=['A100', 'A101']. После удаления элемента с индексом [-1] остается default_list=['A100']. В то же время, return функции пытается забрать элемент под индексом [-2]. Такого элемента нет, это является причиной ошибки. "
   ]
  }
 ],
 "metadata": {
  "kernelspec": {
   "display_name": "Python 3",
   "language": "python",
   "name": "python3"
  },
  "language_info": {
   "codemirror_mode": {
    "name": "ipython",
    "version": 3
   },
   "file_extension": ".py",
   "mimetype": "text/x-python",
   "name": "python",
   "nbconvert_exporter": "python",
   "pygments_lexer": "ipython3",
   "version": "3.7.4"
  }
 },
 "nbformat": 4,
 "nbformat_minor": 2
}
